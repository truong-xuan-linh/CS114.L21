{
  "nbformat": 4,
  "nbformat_minor": 0,
  "metadata": {
    "colab": {
      "name": "predictScore.ipynb",
      "provenance": [],
      "mount_file_id": "1APBIk-ZqyRNDIxlsrXmQNswkb77Ma_Qs",
      "authorship_tag": "ABX9TyNZIbHiayrLNeXW9sKi0zf7",
      "include_colab_link": true
    },
    "kernelspec": {
      "name": "python3",
      "display_name": "Python 3"
    },
    "language_info": {
      "name": "python"
    }
  },
  "cells": [
    {
      "cell_type": "markdown",
      "metadata": {
        "id": "view-in-github",
        "colab_type": "text"
      },
      "source": [
        "<a href=\"https://colab.research.google.com/github/truong-xuan-linh/CS114.L21/blob/main/predictScore.ipynb\" target=\"_parent\"><img src=\"https://colab.research.google.com/assets/colab-badge.svg\" alt=\"Open In Colab\"/></a>"
      ]
    },
    {
      "cell_type": "code",
      "metadata": {
        "colab": {
          "base_uri": "https://localhost:8080/"
        },
        "id": "JymMk_I6DIOR",
        "outputId": "de3134c7-43a0-4043-c997-2e5871ff9006"
      },
      "source": [
        "import pandas as pd\n",
        "import numpy as np\n",
        "score = pd.read_csv(\"/content/drive/MyDrive/CS114/Predict_score/score_training.csv\")\n",
        "wecode = pd.read_csv(\"/content/drive/MyDrive/CS114/Predict_score/wecode.csv\")\n",
        "\n",
        "del wecode['created_at'], wecode['updated_at'], wecode['language_id'], wecode['file_name'], wecode['assignment_id'], wecode['problem_id'] \n",
        "del score['QT'],\tscore['GK'], \tscore['TH'], score['TBM'], score['TBTL']\n",
        "\n",
        "wecode['status'] = map(int,wecode['status'] == 'SCORE')\n",
        "X = wecode[['id', 'user_id', 'user_id',\t'is_final',\t'status',\t'pre_score',\t'coefficient']]\n",
        "\n",
        "print(score.shape[0])\n",
        "for i in range(score.shape[0]):\n",
        "  if score['id'][i] == \n",
        "print(X)"
      ],
      "execution_count": null,
      "outputs": [
        {
          "output_type": "stream",
          "text": [
            "975\n",
            "            id  user_id  ...  pre_score  coefficient\n",
            "0            4        4  ...      10000          100\n",
            "1            5        4  ...      10000          100\n",
            "2            6        4  ...          0          100\n",
            "3            7        4  ...          0          100\n",
            "4            8        4  ...          0          100\n",
            "...        ...      ...  ...        ...          ...\n",
            "264601  266667     1796  ...          0          100\n",
            "264602  266668     1796  ...          0          100\n",
            "264603  266669     1796  ...      10000          100\n",
            "264604  266670      255  ...       6250          100\n",
            "264605  266671     1568  ...      10000          100\n",
            "\n",
            "[264606 rows x 7 columns]\n"
          ],
          "name": "stdout"
        }
      ]
    }
  ]
}